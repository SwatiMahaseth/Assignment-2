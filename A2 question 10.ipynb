{
 "cells": [
  {
   "cell_type": "code",
   "execution_count": 1,
   "metadata": {},
   "outputs": [],
   "source": [
    "import selenium\n",
    "\n",
    "from selenium import webdriver\n",
    "PATH = 'C:\\Program Files (x86)\\chromedriver.exe' #extracting path of the webdriver\n",
    "driver = webdriver.Chrome(PATH)\n",
    "\n",
    "from selenium.webdriver.common.keys import Keys"
   ]
  },
  {
   "cell_type": "code",
   "execution_count": 2,
   "metadata": {},
   "outputs": [],
   "source": [
    "driver.get('https://www.amazon.in/')"
   ]
  },
  {
   "cell_type": "code",
   "execution_count": 5,
   "metadata": {},
   "outputs": [],
   "source": [
    "search_laptop = driver.find_element_by_id('twotabsearchtextbox')\n",
    "search_laptop.send_keys('Laptop')"
   ]
  },
  {
   "cell_type": "code",
   "execution_count": 6,
   "metadata": {},
   "outputs": [],
   "source": [
    "search_btn = driver.find_element_by_id('nav-search-submit-button')\n",
    "search_btn.click()"
   ]
  },
  {
   "cell_type": "code",
   "execution_count": 7,
   "metadata": {},
   "outputs": [],
   "source": [
    "Intel_Core_i7 = driver.find_element_by_xpath(\"//span[text()='Intel Core i7']\")\n",
    "Intel_Core_i7.click()"
   ]
  },
  {
   "cell_type": "code",
   "execution_count": 8,
   "metadata": {},
   "outputs": [],
   "source": [
    "Intel_Core_i9 = driver.find_element_by_xpath(\"//span[text()='Intel Core i9']\")\n",
    "Intel_Core_i9.click()"
   ]
  },
  {
   "cell_type": "code",
   "execution_count": 9,
   "metadata": {},
   "outputs": [
    {
     "data": {
      "text/plain": [
       "['Mi Notebook Horizon Edition 14 Intel Core i7-10510U 10th Gen Thin and Light Laptop(8GB/512GB SSD/Windows 10/Nvidia MX350 2GB Graphics/Grey/1.35Kg)(Without Webcam) XMA1904-AF',\n",
       " 'ASUS ZenBook Flip S OLED, Intel Evo Core i7-1165G7 11th Gen, 13.3-inch UHD Touch Thin and Light 2-in-1 Laptop (16GB/1TB SSD/Windows 10/Office 2019/Iris X Graphics/Jade Black/1.2 kg), UX371EA-HL701TS',\n",
       " 'HP Omen X 2S Core i9 9th Gen 15.6-inch Dual Screen Gaming Laptop (16GB/2TB SSD/Windows 10/8GB NVIDIA RTX 2080 Graphics/Shadow Black), 15-dg0019TX',\n",
       " 'Lenovo IdeaPad S540 11th Gen Intel Core i7 13.3\" QHD IPS Thin & Light Laptop (16GB/512GB SSD/Windows 10/MS Office 2019/Intel Iris Xe Graphics/Iron Grey/1.28Kg), 82H1002CIN',\n",
       " 'Mi Notebook Horizon Edition 14 Intel Core i7-10510U 10th Gen Thin and Light Laptop(8GB/512GB SSD/Windows 10/Nvidia MX350 2GB Graphics/Grey/1.35Kg)(Without Webcam) XMA1904-AF',\n",
       " 'HP Pavilion 13(2021) 11th Gen Intel Core i7 Laptop, 16GB RAM, 1TB SSD, 13.3-inch(33.8 cm) FHD Screen, Win 10, MS Office, Ceramic White, 1.24 Kg (13-bb0078TU)',\n",
       " 'Mi Notebook Pro QHD+ IPS Anti Glare Display Intel Core i7-11370H 11th Gen 14-inch(35.56 cms) Thin and Light Laptop (16GB/512GB SSD/Iris Xe Graphics/Win 10/Backlit KB/Fingerprint Sensor/1.4 Kg)',\n",
       " 'Fujitsu UH-X 11th Gen Intel Core i7 13.3” (33.78cm) FHD IPS 400Nits 2-in1 Touch Convertible Laptop (16GB/1TB SSD/Win10/Office/Iris Xe Graphics/Backlit Kb/Black/997gms), 4ZR1D71993',\n",
       " 'ASUS TUF Dash F15 (2021), 15.6-inch (39.62 cms) FHD 144Hz, Intel Core i7-11370H 11th Gen, RTX 3050 4GB Graphics Gaming Laptop (16GB RAM/512GB SSD/Windows 10/White/2 kg), FX516PC-HN062T',\n",
       " 'MSI GF75 Thin, Intel i7-10750H, 17.3\" (43.9 cm) FHD IPS-Level 144Hz Panel Laptop (8GB/512GB NVMe SSD/Windows 10 Home/Nvidia GTX1650 4GB GDDR6/Black/2.2Kg), 10SCXR-654IN']"
      ]
     },
     "execution_count": 9,
     "metadata": {},
     "output_type": "execute_result"
    }
   ],
   "source": [
    "product_name = driver.find_elements_by_xpath(\"//span[@class='a-size-medium a-color-base a-text-normal']\")\n",
    "laptop_name=[]\n",
    "for i in product_name[0:10]:\n",
    "    laptop_name.append(i.text)\n",
    "laptop_name"
   ]
  },
  {
   "cell_type": "code",
   "execution_count": 10,
   "metadata": {},
   "outputs": [
    {
     "data": {
      "text/plain": [
       "['57,990',\n",
       " '1,45,500',\n",
       " '3,45,000',\n",
       " '77,990',\n",
       " '57,990',\n",
       " '92,190',\n",
       " '72,999',\n",
       " '1,07,990',\n",
       " '95,990',\n",
       " '74,990']"
      ]
     },
     "execution_count": 10,
     "metadata": {},
     "output_type": "execute_result"
    }
   ],
   "source": [
    "price = driver.find_elements_by_xpath(\"//span[@class='a-price-whole']\")\n",
    "laptop_price=[]\n",
    "for i in price[0:10]:\n",
    "    laptop_price.append(i.text)\n",
    "laptop_price"
   ]
  },
  {
   "cell_type": "code",
   "execution_count": 11,
   "metadata": {},
   "outputs": [],
   "source": [
    "laptop_urls = []\n",
    "url= driver.find_elements_by_xpath('//a[@class= \"a-link-normal a-text-normal\"]')\n",
    "for i in url[0:10]:\n",
    "    laptop_urls.append(i.get_attribute('href')) #to retrieve any link we use get_attribute"
   ]
  },
  {
   "cell_type": "code",
   "execution_count": 13,
   "metadata": {},
   "outputs": [],
   "source": [
    "import time"
   ]
  },
  {
   "cell_type": "code",
   "execution_count": 14,
   "metadata": {},
   "outputs": [],
   "source": [
    "laptop_rating=[]\n",
    "\n",
    "for i in laptop_urls:\n",
    "    driver.get(i)\n",
    "    time.sleep(5)\n",
    "    \n",
    "    try:\n",
    "        rating = driver.find_element_by_xpath(\"//span[@class='a-size-medium a-color-base']\")    \n",
    "        laptop_rating.append(rating.text)\n",
    "    except:\n",
    "        laptop_rating.append('-')"
   ]
  },
  {
   "cell_type": "code",
   "execution_count": 15,
   "metadata": {},
   "outputs": [
    {
     "data": {
      "text/plain": [
       "['4.2 out of 5',\n",
       " '4.4 out of 5',\n",
       " '4.5 out of 5',\n",
       " '-',\n",
       " '4.2 out of 5',\n",
       " '5 out of 5',\n",
       " '4.3 out of 5',\n",
       " '4.2 out of 5',\n",
       " '-',\n",
       " '4 out of 5']"
      ]
     },
     "execution_count": 15,
     "metadata": {},
     "output_type": "execute_result"
    }
   ],
   "source": [
    "laptop_rating"
   ]
  },
  {
   "cell_type": "code",
   "execution_count": 16,
   "metadata": {},
   "outputs": [
    {
     "data": {
      "text/html": [
       "<div>\n",
       "<style scoped>\n",
       "    .dataframe tbody tr th:only-of-type {\n",
       "        vertical-align: middle;\n",
       "    }\n",
       "\n",
       "    .dataframe tbody tr th {\n",
       "        vertical-align: top;\n",
       "    }\n",
       "\n",
       "    .dataframe thead th {\n",
       "        text-align: right;\n",
       "    }\n",
       "</style>\n",
       "<table border=\"1\" class=\"dataframe\">\n",
       "  <thead>\n",
       "    <tr style=\"text-align: right;\">\n",
       "      <th></th>\n",
       "      <th>laptop_name</th>\n",
       "      <th>laptop_price</th>\n",
       "      <th>laptop_rating</th>\n",
       "    </tr>\n",
       "  </thead>\n",
       "  <tbody>\n",
       "    <tr>\n",
       "      <th>0</th>\n",
       "      <td>Mi Notebook Horizon Edition 14 Intel Core i7-1...</td>\n",
       "      <td>57,990</td>\n",
       "      <td>4.2 out of 5</td>\n",
       "    </tr>\n",
       "    <tr>\n",
       "      <th>1</th>\n",
       "      <td>ASUS ZenBook Flip S OLED, Intel Evo Core i7-11...</td>\n",
       "      <td>1,45,500</td>\n",
       "      <td>4.4 out of 5</td>\n",
       "    </tr>\n",
       "    <tr>\n",
       "      <th>2</th>\n",
       "      <td>HP Omen X 2S Core i9 9th Gen 15.6-inch Dual Sc...</td>\n",
       "      <td>3,45,000</td>\n",
       "      <td>4.5 out of 5</td>\n",
       "    </tr>\n",
       "    <tr>\n",
       "      <th>3</th>\n",
       "      <td>Lenovo IdeaPad S540 11th Gen Intel Core i7 13....</td>\n",
       "      <td>77,990</td>\n",
       "      <td>-</td>\n",
       "    </tr>\n",
       "    <tr>\n",
       "      <th>4</th>\n",
       "      <td>Mi Notebook Horizon Edition 14 Intel Core i7-1...</td>\n",
       "      <td>57,990</td>\n",
       "      <td>4.2 out of 5</td>\n",
       "    </tr>\n",
       "    <tr>\n",
       "      <th>5</th>\n",
       "      <td>HP Pavilion 13(2021) 11th Gen Intel Core i7 La...</td>\n",
       "      <td>92,190</td>\n",
       "      <td>5 out of 5</td>\n",
       "    </tr>\n",
       "    <tr>\n",
       "      <th>6</th>\n",
       "      <td>Mi Notebook Pro QHD+ IPS Anti Glare Display In...</td>\n",
       "      <td>72,999</td>\n",
       "      <td>4.3 out of 5</td>\n",
       "    </tr>\n",
       "    <tr>\n",
       "      <th>7</th>\n",
       "      <td>Fujitsu UH-X 11th Gen Intel Core i7 13.3” (33....</td>\n",
       "      <td>1,07,990</td>\n",
       "      <td>4.2 out of 5</td>\n",
       "    </tr>\n",
       "    <tr>\n",
       "      <th>8</th>\n",
       "      <td>ASUS TUF Dash F15 (2021), 15.6-inch (39.62 cms...</td>\n",
       "      <td>95,990</td>\n",
       "      <td>-</td>\n",
       "    </tr>\n",
       "    <tr>\n",
       "      <th>9</th>\n",
       "      <td>MSI GF75 Thin, Intel i7-10750H, 17.3\" (43.9 cm...</td>\n",
       "      <td>74,990</td>\n",
       "      <td>4 out of 5</td>\n",
       "    </tr>\n",
       "  </tbody>\n",
       "</table>\n",
       "</div>"
      ],
      "text/plain": [
       "                                         laptop_name laptop_price  \\\n",
       "0  Mi Notebook Horizon Edition 14 Intel Core i7-1...       57,990   \n",
       "1  ASUS ZenBook Flip S OLED, Intel Evo Core i7-11...     1,45,500   \n",
       "2  HP Omen X 2S Core i9 9th Gen 15.6-inch Dual Sc...     3,45,000   \n",
       "3  Lenovo IdeaPad S540 11th Gen Intel Core i7 13....       77,990   \n",
       "4  Mi Notebook Horizon Edition 14 Intel Core i7-1...       57,990   \n",
       "5  HP Pavilion 13(2021) 11th Gen Intel Core i7 La...       92,190   \n",
       "6  Mi Notebook Pro QHD+ IPS Anti Glare Display In...       72,999   \n",
       "7  Fujitsu UH-X 11th Gen Intel Core i7 13.3” (33....     1,07,990   \n",
       "8  ASUS TUF Dash F15 (2021), 15.6-inch (39.62 cms...       95,990   \n",
       "9  MSI GF75 Thin, Intel i7-10750H, 17.3\" (43.9 cm...       74,990   \n",
       "\n",
       "  laptop_rating  \n",
       "0  4.2 out of 5  \n",
       "1  4.4 out of 5  \n",
       "2  4.5 out of 5  \n",
       "3             -  \n",
       "4  4.2 out of 5  \n",
       "5    5 out of 5  \n",
       "6  4.3 out of 5  \n",
       "7  4.2 out of 5  \n",
       "8             -  \n",
       "9    4 out of 5  "
      ]
     },
     "execution_count": 16,
     "metadata": {},
     "output_type": "execute_result"
    }
   ],
   "source": [
    "data = list(zip(laptop_name,laptop_price,laptop_rating))\n",
    "\n",
    "import pandas as pd\n",
    "df = pd.DataFrame(data,columns=['laptop_name','laptop_price','laptop_rating'])\n",
    "\n",
    "df"
   ]
  },
  {
   "cell_type": "code",
   "execution_count": null,
   "metadata": {},
   "outputs": [],
   "source": []
  },
  {
   "cell_type": "code",
   "execution_count": null,
   "metadata": {},
   "outputs": [],
   "source": []
  },
  {
   "cell_type": "code",
   "execution_count": null,
   "metadata": {},
   "outputs": [],
   "source": []
  }
 ],
 "metadata": {
  "kernelspec": {
   "display_name": "Python 3",
   "language": "python",
   "name": "python3"
  },
  "language_info": {
   "codemirror_mode": {
    "name": "ipython",
    "version": 3
   },
   "file_extension": ".py",
   "mimetype": "text/x-python",
   "name": "python",
   "nbconvert_exporter": "python",
   "pygments_lexer": "ipython3",
   "version": "3.6.4"
  }
 },
 "nbformat": 4,
 "nbformat_minor": 2
}
