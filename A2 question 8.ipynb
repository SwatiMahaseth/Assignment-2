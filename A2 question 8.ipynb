{
 "cells": [
  {
   "cell_type": "code",
   "execution_count": 14,
   "metadata": {},
   "outputs": [],
   "source": [
    "import selenium\n",
    "\n",
    "from selenium import webdriver\n",
    "PATH = 'C:\\Program Files (x86)\\chromedriver.exe' #extracting path of the webdriver\n",
    "driver = webdriver.Chrome(PATH)\n",
    "\n",
    "from selenium.webdriver.common.keys import Keys"
   ]
  },
  {
   "cell_type": "code",
   "execution_count": 15,
   "metadata": {},
   "outputs": [],
   "source": [
    "import time\n",
    "\n",
    "time.sleep(5) "
   ]
  },
  {
   "cell_type": "code",
   "execution_count": 16,
   "metadata": {},
   "outputs": [],
   "source": [
    "driver.get('https://www.flipkart.com/')"
   ]
  },
  {
   "cell_type": "code",
   "execution_count": 17,
   "metadata": {},
   "outputs": [],
   "source": [
    "cross_btn = driver.find_element_by_xpath(\"//button[@class='_2KpZ6l _2doB4z']\")\n",
    "cross_btn.click()"
   ]
  },
  {
   "cell_type": "code",
   "execution_count": 18,
   "metadata": {},
   "outputs": [],
   "source": [
    "search_product = driver.find_element_by_name(\"q\")\n",
    "search_product.send_keys('Sneakers')"
   ]
  },
  {
   "cell_type": "code",
   "execution_count": 19,
   "metadata": {},
   "outputs": [],
   "source": [
    "search_btn = driver.find_element_by_xpath(\"//button[@class='L0Z3Pu']\")\n",
    "search_btn.click()"
   ]
  },
  {
   "cell_type": "code",
   "execution_count": 22,
   "metadata": {},
   "outputs": [],
   "source": [
    "#creating one list which is going to store all the links\n",
    "sneakers_opening_urls = []\n",
    "url= driver.find_elements_by_xpath('//nav[@class= \"yFHi8N\"]//a')\n",
    "for i in url[0:3]:\n",
    "    sneakers_opening_urls.append(i.get_attribute('href')) #to retrieve any link we use get_attribute"
   ]
  },
  {
   "cell_type": "code",
   "execution_count": 23,
   "metadata": {},
   "outputs": [
    {
     "data": {
      "text/plain": [
       "['https://www.flipkart.com/search?q=Sneakers&otracker=search&otracker1=search&marketplace=FLIPKART&as-show=on&as=off&page=1',\n",
       " 'https://www.flipkart.com/search?q=Sneakers&otracker=search&otracker1=search&marketplace=FLIPKART&as-show=on&as=off&page=2',\n",
       " 'https://www.flipkart.com/search?q=Sneakers&otracker=search&otracker1=search&marketplace=FLIPKART&as-show=on&as=off&page=3']"
      ]
     },
     "execution_count": 23,
     "metadata": {},
     "output_type": "execute_result"
    }
   ],
   "source": [
    " sneakers_opening_urls"
   ]
  },
  {
   "cell_type": "code",
   "execution_count": 24,
   "metadata": {},
   "outputs": [],
   "source": [
    "import time"
   ]
  },
  {
   "cell_type": "code",
   "execution_count": 25,
   "metadata": {},
   "outputs": [
    {
     "data": {
      "text/plain": [
       "['BUCADIA',\n",
       " 'TR',\n",
       " 'BRUTON',\n",
       " 'Magnolia',\n",
       " 'Longwalk',\n",
       " 'ASTEROID',\n",
       " 'luxury fashion',\n",
       " 'ADIDAS ORIGINALS',\n",
       " 'Creer',\n",
       " 'RODDICK SHOES',\n",
       " 'PEHANOSA',\n",
       " 'Jabra',\n",
       " 'BIRDE',\n",
       " 'Numenzo',\n",
       " 'Numenzo',\n",
       " 'Axter',\n",
       " 'VIPSJAZZY',\n",
       " 'SCATCHITE',\n",
       " 'Absolute comfort',\n",
       " 'Echor',\n",
       " 'Numenzo',\n",
       " 'Shoes Bank',\n",
       " 'World Wear Footwear',\n",
       " 'Numenzo',\n",
       " 'Airland',\n",
       " 'ASTEROID',\n",
       " 'Arohi',\n",
       " 'BRUTON',\n",
       " 'Numenzo',\n",
       " 'SPARX',\n",
       " 'restinfoot',\n",
       " 'bluemaker',\n",
       " 'believe',\n",
       " 'Kraasa',\n",
       " 'BRUTON',\n",
       " 'Baogi',\n",
       " 'D-SNEAKERZ',\n",
       " 'BRUTON',\n",
       " 'SHOEFLY',\n",
       " 'tigonis',\n",
       " 'TR',\n",
       " 'Zsyto',\n",
       " 'Axter',\n",
       " 'BRUTON',\n",
       " 'Kraasa',\n",
       " 'RODDICK SHOES',\n",
       " 'Jack Diamond',\n",
       " 'TR',\n",
       " 'BIRDE',\n",
       " 'Chevit',\n",
       " 'BIRDE',\n",
       " 'BUCADIA',\n",
       " 'SPARX',\n",
       " 'BIRDE',\n",
       " 'Zorth',\n",
       " 'ADIDAS ORIGINALS',\n",
       " 'BIRDE',\n",
       " 'bluemaker',\n",
       " 'Zorth',\n",
       " 'Jabra',\n",
       " 'Jack Diamond',\n",
       " 'Rising Wolf',\n",
       " 'SPARX',\n",
       " 'Echor',\n",
       " 'T-ROCK',\n",
       " 'WRIZT',\n",
       " 'SPARX',\n",
       " 'Axter',\n",
       " 'SHOEFLY',\n",
       " 'Magnolia',\n",
       " 'SPARX',\n",
       " 'Numenzo',\n",
       " 'Zsyto',\n",
       " 'World Wear Footwear',\n",
       " 'LuvShus',\n",
       " 'BRUTON',\n",
       " 'SPARX',\n",
       " 'Jokatoo',\n",
       " 'KANEGGYE',\n",
       " 'tigonis',\n",
       " 'D-SNEAKERZ',\n",
       " 'PUMA',\n",
       " 'Labbin',\n",
       " 'BRUTON',\n",
       " 'India hub',\n",
       " 'PUMA',\n",
       " 'SPARX',\n",
       " 'TR',\n",
       " 'bluemaker',\n",
       " 'D-SNEAKERZ',\n",
       " 'SPARX',\n",
       " 'BUCADIA',\n",
       " 'Edoeviv',\n",
       " 'tigonis',\n",
       " 'PUMA',\n",
       " 'ADIDAS ORIGINALS',\n",
       " 'SPARX',\n",
       " 'Carlo Style',\n",
       " 'Fzzirok',\n",
       " 'Jabra',\n",
       " 'SEGA',\n",
       " 'World Wear Footwear',\n",
       " 'World Wear Footwear',\n",
       " 'Echor',\n",
       " 'India hub',\n",
       " 'PUMA',\n",
       " 'RODDICK SHOES',\n",
       " 'Axter',\n",
       " 'SHOEFLY',\n",
       " 'SPARX',\n",
       " 'Mr ShoesWala',\n",
       " 'Numenzo',\n",
       " 'Edoeviv',\n",
       " 'Converse',\n",
       " 'Red Rose',\n",
       " 'bluemaker',\n",
       " 'HOC',\n",
       " 'BRUTON',\n",
       " 'SHOEFLY',\n",
       " 'BRUTON']"
      ]
     },
     "execution_count": 25,
     "metadata": {},
     "output_type": "execute_result"
    }
   ],
   "source": [
    "sneakers_brand=[]\n",
    "for i in sneakers_opening_urls:\n",
    "    driver.get(i)\n",
    "    time.sleep(5)\n",
    "    try:\n",
    "        brands = driver.find_elements_by_xpath(\"//div[@class='_2WkVRV']\")\n",
    "        for i in brands:\n",
    "            sneakers_brand.append(i.text)\n",
    "    except:\n",
    "        sneakers_brand.append('-')\n",
    "            \n",
    "sneakers_brand\n"
   ]
  },
  {
   "cell_type": "code",
   "execution_count": 27,
   "metadata": {},
   "outputs": [
    {
     "data": {
      "text/plain": [
       "['-', '-', '-']"
      ]
     },
     "execution_count": 27,
     "metadata": {},
     "output_type": "execute_result"
    }
   ],
   "source": [
    "sneakers_description=[]\n",
    "for i in sneakers_opening_urls:\n",
    "    driver.get(i)\n",
    "    time.sleep(5)\n",
    "    try:\n",
    "        description = driver.find_elements_by_xpath(\"//a[@class='IRpwTa']\")\n",
    "        for i in description:\n",
    "            sneakers_description.append(description.text)\n",
    "    except:\n",
    "        sneakers_description.append('-')\n",
    "            \n",
    "sneakers_description"
   ]
  },
  {
   "cell_type": "code",
   "execution_count": 26,
   "metadata": {},
   "outputs": [
    {
     "name": "stdout",
     "output_type": "stream",
     "text": [
      "120\n"
     ]
    }
   ],
   "source": [
    "print(len(sneakers_brand))"
   ]
  },
  {
   "cell_type": "code",
   "execution_count": null,
   "metadata": {},
   "outputs": [],
   "source": []
  },
  {
   "cell_type": "code",
   "execution_count": null,
   "metadata": {},
   "outputs": [],
   "source": []
  },
  {
   "cell_type": "code",
   "execution_count": null,
   "metadata": {},
   "outputs": [],
   "source": []
  },
  {
   "cell_type": "code",
   "execution_count": null,
   "metadata": {},
   "outputs": [],
   "source": []
  },
  {
   "cell_type": "code",
   "execution_count": null,
   "metadata": {},
   "outputs": [],
   "source": []
  },
  {
   "cell_type": "code",
   "execution_count": null,
   "metadata": {},
   "outputs": [],
   "source": []
  },
  {
   "cell_type": "code",
   "execution_count": null,
   "metadata": {},
   "outputs": [],
   "source": []
  }
 ],
 "metadata": {
  "kernelspec": {
   "display_name": "Python 3",
   "language": "python",
   "name": "python3"
  },
  "language_info": {
   "codemirror_mode": {
    "name": "ipython",
    "version": 3
   },
   "file_extension": ".py",
   "mimetype": "text/x-python",
   "name": "python",
   "nbconvert_exporter": "python",
   "pygments_lexer": "ipython3",
   "version": "3.6.4"
  }
 },
 "nbformat": 4,
 "nbformat_minor": 2
}
